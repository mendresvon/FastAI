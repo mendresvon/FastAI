{
  "nbformat": 4,
  "nbformat_minor": 0,
  "metadata": {
    "colab": {
      "provenance": [],
      "gpuType": "T4"
    },
    "kernelspec": {
      "name": "python3",
      "display_name": "Python 3"
    },
    "language_info": {
      "name": "python"
    },
    "accelerator": "GPU"
  },
  "cells": [
    {
      "cell_type": "code",
      "execution_count": null,
      "metadata": {
        "id": "-nDXrM3s2LBO"
      },
      "outputs": [],
      "source": [
        "!pip install -Uqq 'fastai' 'ddgs'"
      ]
    },
    {
      "cell_type": "code",
      "source": [
        "from ddgs import DDGS\n",
        "from fastcore.all import *\n",
        "import time, json\n",
        "from fastdownload import download_url # This is for downloading urls\n",
        "from fastai.vision.all import * # This is for handling and displaying images\n",
        "\n",
        "def search_images(keywords, max_images=200):\n",
        "  return L(DDGS().images(keywords, max_results=max_images)).itemgot('image')"
      ],
      "metadata": {
        "id": "lGI3s7tI2kFw"
      },
      "execution_count": null,
      "outputs": []
    },
    {
      "cell_type": "code",
      "source": [
        "# Gather the training data required for training the model\n",
        "searches = ('bird','plane')\n",
        "path = Path('bird_or_plane')\n",
        "\n",
        "for o in searches:\n",
        "    dest = (path/o)\n",
        "    dest.mkdir(exist_ok=True, parents=True)\n",
        "    download_images(dest, urls=search_images(f'{o} photos'))\n",
        "    time.sleep(5)"
      ],
      "metadata": {
        "id": "YCXIY_9WF7zl"
      },
      "execution_count": null,
      "outputs": []
    },
    {
      "cell_type": "code",
      "source": [
        "# Verify and delete malfunctioning image files\n",
        "fns = get_image_files(path)\n",
        "failed = verify_images(fns)\n",
        "failed.map(Path.unlink)\n",
        "len(failed)"
      ],
      "metadata": {
        "id": "bKt9uUFlH7tB"
      },
      "execution_count": null,
      "outputs": []
    },
    {
      "cell_type": "code",
      "source": [
        "# Create Data Blocks for training the model\n",
        "dls = DataBlock(\n",
        "    blocks=(ImageBlock, CategoryBlock),\n",
        "    get_items=get_image_files,\n",
        "    splitter=RandomSplitter(valid_pct=0.2, seed=42),\n",
        "    get_y=parent_label,\n",
        "    item_tfms=[Resize(192, method='squish')]\n",
        ").dataloaders(path, bs=32)"
      ],
      "metadata": {
        "id": "b7-zU1TbNHfN"
      },
      "execution_count": null,
      "outputs": []
    },
    {
      "cell_type": "code",
      "source": [
        "dls.show_batch(max_n=20)"
      ],
      "metadata": {
        "id": "zbRtNm2eT1XT"
      },
      "execution_count": null,
      "outputs": []
    },
    {
      "cell_type": "code",
      "source": [
        "#Train the Model\n",
        "learn = vision_learner(dls, resnet18, metrics=error_rate)\n",
        "learn.fine_tune(3)"
      ],
      "metadata": {
        "id": "UikfJPtzTkgm"
      },
      "execution_count": null,
      "outputs": []
    },
    {
      "cell_type": "code",
      "source": [
        "learn.show_results(max_n=100)"
      ],
      "metadata": {
        "id": "n8WsAGbETtQl"
      },
      "execution_count": null,
      "outputs": []
    },
    {
      "cell_type": "code",
      "source": [
        "# Plot top losses\n",
        "interp = ClassificationInterpretation.from_learner(learn)\n",
        "interp.plot_top_losses(9, nrows=3)"
      ],
      "metadata": {
        "id": "1HxshvxNtn2M"
      },
      "execution_count": null,
      "outputs": []
    },
    {
      "cell_type": "code",
      "source": [
        "# Clean data with fastai GUI\n",
        "from fastai.vision.widgets import *\n",
        "\n",
        "cleaner = ImageClassifierCleaner(learn)\n",
        "cleaner"
      ],
      "metadata": {
        "id": "lMnSRxjMtqPl"
      },
      "execution_count": null,
      "outputs": []
    },
    {
      "cell_type": "code",
      "source": [
        "# Apply the changes\n",
        "for idx in cleaner.delete(): cleaner.fns[idx].unlink()\n",
        "for idx,cat in cleaner.change(): shutil.move(str(cleaner.fns[idx]), path/'images'/cat)"
      ],
      "metadata": {
        "id": "Ry2ZrDectz2_"
      },
      "execution_count": null,
      "outputs": []
    }
  ]
}